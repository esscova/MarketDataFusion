{
 "cells": [
  {
   "cell_type": "code",
   "execution_count": 7,
   "id": "3ab27c07",
   "metadata": {},
   "outputs": [],
   "source": [
    "# bibliotecas\n",
    "import json\n",
    "import csv"
   ]
  },
  {
   "cell_type": "code",
   "execution_count": 37,
   "id": "bb237ed2",
   "metadata": {},
   "outputs": [],
   "source": [
    "# configs\n",
    "\n",
    "# arquivos\n",
    "arquivo1 = \"../data/raw/dados_empresaA.json\"\n",
    "arquivo2 = \"../data/raw/dados_empresaB.csv\"\n",
    "fusao = \"../data/processed/dados_combinados.csv\"\n",
    "\n",
    "# listas com dados carregados\n",
    "empresa_a = []\n",
    "empresa_b = []\n",
    "dados_combinados=[]"
   ]
  },
  {
   "cell_type": "code",
   "execution_count": 42,
   "id": "d4548d59",
   "metadata": {},
   "outputs": [],
   "source": [
    "# ler arquivos\n",
    "\n",
    "# json empresa A\n",
    "with open(arquivo1,'r') as f:\n",
    "    empresa_a = json.load(f)\n",
    "\n",
    "# csv empresa B\n",
    "with open(arquivo2, 'r') as f:\n",
    "    rows = csv.reader(f, delimiter=',')\n",
    "    for row in rows:\n",
    "        empresa_b.append(row)\n"
   ]
  },
  {
   "cell_type": "code",
   "execution_count": 11,
   "id": "7c2b7349",
   "metadata": {},
   "outputs": [
    {
     "data": {
      "text/plain": [
       "(list, list)"
      ]
     },
     "execution_count": 11,
     "metadata": {},
     "output_type": "execute_result"
    }
   ],
   "source": [
    "# tipos dos dados\n",
    "type(empresa_a), type(empresa_b)"
   ]
  },
  {
   "cell_type": "code",
   "execution_count": 15,
   "id": "1cd368e1",
   "metadata": {},
   "outputs": [
    {
     "data": {
      "text/plain": [
       "{'Nome do Produto': 'Blush em pó',\n",
       " 'Categoria do Produto': 'Eletrodomésticos',\n",
       " 'Preço do Produto (R$)': 79.41,\n",
       " 'Quantidade em Estoque': 7,\n",
       " 'Filial': 'Filial 7'}"
      ]
     },
     "execution_count": 15,
     "metadata": {},
     "output_type": "execute_result"
    }
   ],
   "source": [
    "# primeiro registro empresa A carregado\n",
    "empresa_a[0]"
   ]
  },
  {
   "cell_type": "code",
   "execution_count": 19,
   "id": "b135f554",
   "metadata": {},
   "outputs": [
    {
     "data": {
      "text/plain": [
       "['Nome do Item',\n",
       " 'Classificação do Produto',\n",
       " 'Valor em Reais (R$)',\n",
       " 'Quantidade em Estoque',\n",
       " 'Nome da Loja',\n",
       " 'Data da Venda']"
      ]
     },
     "execution_count": 19,
     "metadata": {},
     "output_type": "execute_result"
    }
   ],
   "source": [
    "# primeiro registro empresa B carregado\n",
    "empresa_b[0]"
   ]
  },
  {
   "cell_type": "code",
   "execution_count": 25,
   "id": "0fd141d6",
   "metadata": {},
   "outputs": [
    {
     "data": {
      "text/plain": [
       "['Nome do Item',\n",
       " 'Classificação do Produto',\n",
       " 'Valor em Reais (R$)',\n",
       " 'Quantidade em Estoque',\n",
       " 'Nome da Loja',\n",
       " 'Data da Venda']"
      ]
     },
     "execution_count": 25,
     "metadata": {},
     "output_type": "execute_result"
    }
   ],
   "source": [
    "empresa_b[0] # somente as colunas"
   ]
  },
  {
   "cell_type": "code",
   "execution_count": null,
   "id": "8cefbf82",
   "metadata": {},
   "outputs": [
    {
     "data": {
      "text/plain": [
       "[['Lápis de sobrancelha',\n",
       "  'Roupas',\n",
       "  '55.17',\n",
       "  '62',\n",
       "  'Filial 1',\n",
       "  '2023-04-13 18:58:06.794203'],\n",
       " ['Batom matte',\n",
       "  'Eletrônicos',\n",
       "  '74.15',\n",
       "  '48',\n",
       "  'Filial 9',\n",
       "  '2023-06-03 18:58:06.794203'],\n",
       " ['Corretivo',\n",
       "  'Roupas',\n",
       "  '54.86',\n",
       "  '36',\n",
       "  'Filial 5',\n",
       "  '2023-06-08 18:58:06.794203'],\n",
       " ['Delineador líquido',\n",
       "  'Roupas',\n",
       "  '91.29',\n",
       "  '1',\n",
       "  'Filial 8',\n",
       "  '2023-02-27 18:58:06.794203']]"
      ]
     },
     "execution_count": 26,
     "metadata": {},
     "output_type": "execute_result"
    }
   ],
   "source": [
    "empresa_b[1:5] # amostra proximos indices confirma"
   ]
  },
  {
   "cell_type": "code",
   "execution_count": 43,
   "id": "769afc66",
   "metadata": {},
   "outputs": [
    {
     "name": "stdout",
     "output_type": "stream",
     "text": [
      "[]\n"
     ]
    }
   ],
   "source": [
    "# refatoracao dados empresa b com dictreader\n",
    "empresa_b.clear()\n",
    "print(empresa_b)\n",
    "\n",
    "with open(arquivo2, 'r') as f:\n",
    "    rows = csv.DictReader(f, delimiter=',')\n",
    "    for row in rows:\n",
    "        empresa_b.append(row)"
   ]
  },
  {
   "cell_type": "code",
   "execution_count": 28,
   "id": "831120ec",
   "metadata": {},
   "outputs": [
    {
     "data": {
      "text/plain": [
       "(list,\n",
       " {'Nome do Item': 'Lápis de sobrancelha',\n",
       "  'Classificação do Produto': 'Roupas',\n",
       "  'Valor em Reais (R$)': '55.17',\n",
       "  'Quantidade em Estoque': '62',\n",
       "  'Nome da Loja': 'Filial 1',\n",
       "  'Data da Venda': '2023-04-13 18:58:06.794203'})"
      ]
     },
     "execution_count": 28,
     "metadata": {},
     "output_type": "execute_result"
    }
   ],
   "source": [
    "# tipo empresa b e primeiro registro\n",
    "type(empresa_b), empresa_b[0]"
   ]
  },
  {
   "cell_type": "code",
   "execution_count": 44,
   "id": "44a78d3c",
   "metadata": {},
   "outputs": [],
   "source": [
    "# padronizar atributos da empresa b\n",
    "key_mapping = {\n",
    "    'Nome do Item':             'Nome do Produto',\n",
    "    'Classificação do Produto': 'Categoria do Produto',\n",
    "    'Valor em Reais (R$)':      'Preço do Produto (R$)',\n",
    "    'Quantidade em Estoque':    'Quantidade em Estoque', # mantém\n",
    "    'Nome da Loja':             'Filial',\n",
    "    'Data da Venda':            'Data da Venda'          # mantém\n",
    "}\n",
    "\n",
    "empresa_b_atributos_padronizados = []\n",
    "\n",
    "for registro in empresa_b:\n",
    "    registro_temp = {}\n",
    "\n",
    "    for k,v in registro.items():\n",
    "        nome_atributo = key_mapping[k]\n",
    "        registro_temp[nome_atributo] = v\n",
    "\n",
    "    empresa_b_atributos_padronizados.append(registro_temp)\n",
    "\n",
    "empresa_b.clear()\n",
    "empresa_b = empresa_b_atributos_padronizados"
   ]
  },
  {
   "cell_type": "code",
   "execution_count": 30,
   "id": "adc7442d",
   "metadata": {},
   "outputs": [
    {
     "data": {
      "text/plain": [
       "(list,\n",
       " {'Nome do Produto': 'Lápis de sobrancelha',\n",
       "  'Categoria do Produto': 'Roupas',\n",
       "  'Preço do Produto (R$)': '55.17',\n",
       "  'Quantidade em Estoque': '62',\n",
       "  'Filial': 'Filial 1',\n",
       "  'Data da Venda': '2023-04-13 18:58:06.794203'})"
      ]
     },
     "execution_count": 30,
     "metadata": {},
     "output_type": "execute_result"
    }
   ],
   "source": [
    "\n",
    "# tipo e primeiro registro\n",
    "type(empresa_b), empresa_b[0]"
   ]
  },
  {
   "cell_type": "code",
   "execution_count": 45,
   "id": "d31f9eb6",
   "metadata": {},
   "outputs": [
    {
     "data": {
      "text/plain": [
       "(list,\n",
       " 4446,\n",
       " 4446,\n",
       " {'Nome do Produto': 'Blush em pó',\n",
       "  'Categoria do Produto': 'Eletrodomésticos',\n",
       "  'Preço do Produto (R$)': 79.41,\n",
       "  'Quantidade em Estoque': 7,\n",
       "  'Filial': 'Filial 7'},\n",
       " {'Nome do Produto': 'Sombra de olhos',\n",
       "  'Categoria do Produto': 'Eletrônicos',\n",
       "  'Preço do Produto (R$)': '41.73',\n",
       "  'Quantidade em Estoque': '5',\n",
       "  'Filial': 'Filial 6',\n",
       "  'Data da Venda': '2022-11-21 18:58:06.794203'})"
      ]
     },
     "execution_count": 45,
     "metadata": {},
     "output_type": "execute_result"
    }
   ],
   "source": [
    "# combinando dados\n",
    "dados_combinados.extend(empresa_a)\n",
    "dados_combinados.extend(empresa_b)\n",
    "\n",
    "# type e tamanho e amostras\n",
    "type(dados_combinados), len(dados_combinados), len(empresa_a) + len(empresa_b), dados_combinados[0], dados_combinados[-1]\n"
   ]
  },
  {
   "cell_type": "code",
   "execution_count": 55,
   "id": "0f4f7bd2",
   "metadata": {},
   "outputs": [
    {
     "data": {
      "text/plain": [
       "['Data da Venda',\n",
       " 'Categoria do Produto',\n",
       " 'Quantidade em Estoque',\n",
       " 'Filial',\n",
       " 'Nome do Produto',\n",
       " 'Preço do Produto (R$)']"
      ]
     },
     "execution_count": 55,
     "metadata": {},
     "output_type": "execute_result"
    }
   ],
   "source": [
    "# pegar atributos unicos(chaves) de todos os dicionários na lista\n",
    "headers = list(\n",
    "            set(key\n",
    "                for dicionario in dados_combinados for key in dicionario.keys()\n",
    "            )\n",
    "        )\n",
    "headers"
   ]
  },
  {
   "cell_type": "code",
   "execution_count": 56,
   "id": "af4de956",
   "metadata": {},
   "outputs": [
    {
     "name": "stdout",
     "output_type": "stream",
     "text": [
      "Finalizado arquivo combinado da fusão das empresas criado...\n"
     ]
    }
   ],
   "source": [
    "# persistindo\n",
    "with open(fusao, 'w', newline='', encoding='utf-8') as f:\n",
    "    writer = csv.DictWriter(f, fieldnames=headers)\n",
    "    writer.writeheader()\n",
    "\n",
    "    for registro in dados_combinados:\n",
    "        registro_tratado = {chave: registro.get(chave, 'indisponivel') for chave in headers}\n",
    "        writer.writerow(registro_tratado)\n",
    "print(\"Finalizado arquivo combinado da fusão das empresas criado...\")"
   ]
  }
 ],
 "metadata": {
  "kernelspec": {
   "display_name": "base",
   "language": "python",
   "name": "python3"
  },
  "language_info": {
   "codemirror_mode": {
    "name": "ipython",
    "version": 3
   },
   "file_extension": ".py",
   "mimetype": "text/x-python",
   "name": "python",
   "nbconvert_exporter": "python",
   "pygments_lexer": "ipython3",
   "version": "3.12.4"
  }
 },
 "nbformat": 4,
 "nbformat_minor": 5
}
